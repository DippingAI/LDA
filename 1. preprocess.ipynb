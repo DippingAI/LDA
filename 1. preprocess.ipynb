{
 "cells": [
  {
   "cell_type": "code",
   "execution_count": 1,
   "id": "31898a1e",
   "metadata": {},
   "outputs": [],
   "source": [
    "import pandas as pd\n",
    "import os"
   ]
  },
  {
   "cell_type": "code",
   "execution_count": 2,
   "id": "730e3990",
   "metadata": {},
   "outputs": [
    {
     "data": {
      "text/plain": [
       "['kor.csv', 'usa.csv']"
      ]
     },
     "execution_count": 2,
     "metadata": {},
     "output_type": "execute_result"
    }
   ],
   "source": [
    "path = \"data\"\n",
    "os.listdir(path)"
   ]
  },
  {
   "cell_type": "code",
   "execution_count": 3,
   "id": "819f7c1e",
   "metadata": {},
   "outputs": [
    {
     "name": "stdout",
     "output_type": "stream",
     "text": [
      "(776, 34)\n",
      "(674, 6)\n"
     ]
    }
   ],
   "source": [
    "ko = pd.read_csv(os.path.join(path, 'kor.csv'))\n",
    "eng = pd.read_csv(os.path.join(path, 'usa.csv'))\n",
    "print(ko.shape)\n",
    "print(eng.shape)"
   ]
  },
  {
   "cell_type": "code",
   "execution_count": 4,
   "id": "8e805631",
   "metadata": {},
   "outputs": [
    {
     "name": "stdout",
     "output_type": "stream",
     "text": [
      "(696, 6)\n"
     ]
    },
    {
     "data": {
      "text/html": [
       "<div>\n",
       "<style scoped>\n",
       "    .dataframe tbody tr th:only-of-type {\n",
       "        vertical-align: middle;\n",
       "    }\n",
       "\n",
       "    .dataframe tbody tr th {\n",
       "        vertical-align: top;\n",
       "    }\n",
       "\n",
       "    .dataframe thead th {\n",
       "        text-align: right;\n",
       "    }\n",
       "</style>\n",
       "<table border=\"1\" class=\"dataframe\">\n",
       "  <thead>\n",
       "    <tr style=\"text-align: right;\">\n",
       "      <th></th>\n",
       "      <th>author</th>\n",
       "      <th>title</th>\n",
       "      <th>publisher</th>\n",
       "      <th>keyword</th>\n",
       "      <th>abs</th>\n",
       "      <th>publish_year</th>\n",
       "    </tr>\n",
       "  </thead>\n",
       "  <tbody>\n",
       "    <tr>\n",
       "      <th>0</th>\n",
       "      <td>ChangWookwon; Park, Seong-Woo; 여진원</td>\n",
       "      <td>A Study on the Development Plan for Public Lib...</td>\n",
       "      <td>Journal of the Korean Library and Information ...</td>\n",
       "      <td>Public Library; Public Library Policy; Public ...</td>\n",
       "      <td>Public libraries are core organization of know...</td>\n",
       "      <td>2014</td>\n",
       "    </tr>\n",
       "    <tr>\n",
       "      <th>1</th>\n",
       "      <td>Doh, Taehyeon</td>\n",
       "      <td>A Case Study for Public Library Service Develo...</td>\n",
       "      <td>Journal of Korean Library and Information Scie...</td>\n",
       "      <td>Public Library; Library Service; Public Librar...</td>\n",
       "      <td>This study outlined the services of the P Publ...</td>\n",
       "      <td>2006</td>\n",
       "    </tr>\n",
       "    <tr>\n",
       "      <th>2</th>\n",
       "      <td>Lee, Seong-Sin</td>\n",
       "      <td>Public Library Service Positioning Strategy</td>\n",
       "      <td>Journal of Korean Library and Information Scie...</td>\n",
       "      <td>Public library service; Public library service...</td>\n",
       "      <td>The purpose of this study is to suggest public...</td>\n",
       "      <td>2013</td>\n",
       "    </tr>\n",
       "    <tr>\n",
       "      <th>3</th>\n",
       "      <td>Kim, Young-Seok</td>\n",
       "      <td>A Study on the Establishment of a Public Libra...</td>\n",
       "      <td>Journal of Korean Library and Information Scie...</td>\n",
       "      <td>Public library; Public library building; Publi...</td>\n",
       "      <td>This study considers that the establishment of...</td>\n",
       "      <td>2014</td>\n",
       "    </tr>\n",
       "    <tr>\n",
       "      <th>4</th>\n",
       "      <td>Kim, Young-Seok</td>\n",
       "      <td>A Study on the Size of the Public Libraries in...</td>\n",
       "      <td>Journal of Korean Library and Information Scie...</td>\n",
       "      <td>Public library; Public library size; Public li...</td>\n",
       "      <td>In terms of expanding the infrastructure of pu...</td>\n",
       "      <td>2013</td>\n",
       "    </tr>\n",
       "  </tbody>\n",
       "</table>\n",
       "</div>"
      ],
      "text/plain": [
       "                               author  \\\n",
       "0  ChangWookwon; Park, Seong-Woo; 여진원   \n",
       "1                       Doh, Taehyeon   \n",
       "2                      Lee, Seong-Sin   \n",
       "3                     Kim, Young-Seok   \n",
       "4                     Kim, Young-Seok   \n",
       "\n",
       "                                               title  \\\n",
       "0  A Study on the Development Plan for Public Lib...   \n",
       "1  A Case Study for Public Library Service Develo...   \n",
       "2        Public Library Service Positioning Strategy   \n",
       "3  A Study on the Establishment of a Public Libra...   \n",
       "4  A Study on the Size of the Public Libraries in...   \n",
       "\n",
       "                                           publisher  \\\n",
       "0  Journal of the Korean Library and Information ...   \n",
       "1  Journal of Korean Library and Information Scie...   \n",
       "2  Journal of Korean Library and Information Scie...   \n",
       "3  Journal of Korean Library and Information Scie...   \n",
       "4  Journal of Korean Library and Information Scie...   \n",
       "\n",
       "                                             keyword  \\\n",
       "0  Public Library; Public Library Policy; Public ...   \n",
       "1  Public Library; Library Service; Public Librar...   \n",
       "2  Public library service; Public library service...   \n",
       "3  Public library; Public library building; Publi...   \n",
       "4  Public library; Public library size; Public li...   \n",
       "\n",
       "                                                 abs  publish_year  \n",
       "0  Public libraries are core organization of know...          2014  \n",
       "1  This study outlined the services of the P Publ...          2006  \n",
       "2  The purpose of this study is to suggest public...          2013  \n",
       "3  This study considers that the establishment of...          2014  \n",
       "4  In terms of expanding the infrastructure of pu...          2013  "
      ]
     },
     "execution_count": 4,
     "metadata": {},
     "output_type": "execute_result"
    }
   ],
   "source": [
    "drop_cols = ['PT','Z4', 'RI', 'OI', 'U1', 'U2', 'SN', 'VL', 'IS', 'BP', 'Z5', 'S1','DT','LA', 'Z1', 'ZK', 'AK', 'EC', 'SC', 'PU',\n",
    "       'EP', 'DI', 'UT', 'OA', 'HC', 'HP', 'DA', 'Column1']\n",
    "ko.drop(drop_cols, axis=1, inplace=True)\n",
    "ko.rename(columns={'AU':'author', 'TI':'title', 'SO':'publisher', 'DE':'keyword', 'AB':'abs', 'PY':'publish_year'}, inplace=True)\n",
    "ko = ko[(ko['title'].notna()) & (ko['abs'].notna())]\n",
    "ko = ko[(ko['publish_year'] < 2021) & (ko['publish_year'] > 2000)]\n",
    "print(ko.shape)\n",
    "ko.head()"
   ]
  },
  {
   "cell_type": "code",
   "execution_count": 5,
   "id": "5d17be6f",
   "metadata": {},
   "outputs": [
    {
     "name": "stdout",
     "output_type": "stream",
     "text": [
      "(441, 6)\n"
     ]
    },
    {
     "data": {
      "text/html": [
       "<div>\n",
       "<style scoped>\n",
       "    .dataframe tbody tr th:only-of-type {\n",
       "        vertical-align: middle;\n",
       "    }\n",
       "\n",
       "    .dataframe tbody tr th {\n",
       "        vertical-align: top;\n",
       "    }\n",
       "\n",
       "    .dataframe thead th {\n",
       "        text-align: right;\n",
       "    }\n",
       "</style>\n",
       "<table border=\"1\" class=\"dataframe\">\n",
       "  <thead>\n",
       "    <tr style=\"text-align: right;\">\n",
       "      <th></th>\n",
       "      <th>author</th>\n",
       "      <th>title</th>\n",
       "      <th>publisher</th>\n",
       "      <th>keyword</th>\n",
       "      <th>abs</th>\n",
       "      <th>publish_year</th>\n",
       "    </tr>\n",
       "  </thead>\n",
       "  <tbody>\n",
       "    <tr>\n",
       "      <th>0</th>\n",
       "      <td>Buschman, John</td>\n",
       "      <td>Public Libraries Are Doing Just Fine, Thank Yo...</td>\n",
       "      <td>CANADIAN JOURNAL OF INFORMATION AND LIBRARY SC...</td>\n",
       "      <td>neoliberalism; public goods; public libraries;...</td>\n",
       "      <td>Public libraries have been rhetorically cast a...</td>\n",
       "      <td>2020</td>\n",
       "    </tr>\n",
       "  </tbody>\n",
       "</table>\n",
       "</div>"
      ],
      "text/plain": [
       "           author                                              title  \\\n",
       "0  Buschman, John  Public Libraries Are Doing Just Fine, Thank Yo...   \n",
       "\n",
       "                                           publisher  \\\n",
       "0  CANADIAN JOURNAL OF INFORMATION AND LIBRARY SC...   \n",
       "\n",
       "                                             keyword  \\\n",
       "0  neoliberalism; public goods; public libraries;...   \n",
       "\n",
       "                                                 abs  publish_year  \n",
       "0  Public libraries have been rhetorically cast a...          2020  "
      ]
     },
     "execution_count": 5,
     "metadata": {},
     "output_type": "execute_result"
    }
   ],
   "source": [
    "eng.rename(columns={\"pubisher\":'publisher'}, inplace=True)\n",
    "eng = eng[(eng['title'].notna()) & (eng['abs'].notna())]\n",
    "eng = eng[(eng['publish_year'] < 2021) & (eng['publish_year'] > 2000)]\n",
    "print(eng.shape)\n",
    "eng.head(1)"
   ]
  },
  {
   "cell_type": "code",
   "execution_count": 6,
   "id": "84be2a55",
   "metadata": {},
   "outputs": [],
   "source": [
    "path = \"preprocess\"\n",
    "eng.to_csv(os.path.join(path, 'usa.csv'), index=False)\n",
    "ko.to_csv(os.path.join(path, 'kor.csv'), index=False)\n"
   ]
  },
  {
   "cell_type": "code",
   "execution_count": null,
   "id": "aeb11c5f",
   "metadata": {},
   "outputs": [],
   "source": []
  }
 ],
 "metadata": {
  "kernelspec": {
   "display_name": "Python 3",
   "language": "python",
   "name": "python3"
  },
  "language_info": {
   "codemirror_mode": {
    "name": "ipython",
    "version": 3
   },
   "file_extension": ".py",
   "mimetype": "text/x-python",
   "name": "python",
   "nbconvert_exporter": "python",
   "pygments_lexer": "ipython3",
   "version": "3.8.8"
  }
 },
 "nbformat": 4,
 "nbformat_minor": 5
}
